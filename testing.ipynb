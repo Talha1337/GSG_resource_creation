{
 "cells": [
  {
   "cell_type": "code",
   "execution_count": 3,
   "id": "a004a524",
   "metadata": {},
   "outputs": [
    {
     "name": "stdout",
     "output_type": "stream",
     "text": [
      "Cumulative reward: [0.96059601, 0.970299, 0.9801, 0.99, 1.0]\n"
     ]
    }
   ],
   "source": [
    "if __name__ == \"__main__\":\n",
    "    # Example rewards from a trajectory\n",
    "    example_rewards = [0, 0, 0, 0, 1]\n",
    "    gamma = 0.99\n",
    "    # Calculate cumulative reward\n",
    "    total_reward = [sum([example_rewards[j] * (gamma ** (j - i)) for j in range(i, len(example_rewards))]) for i in range(len(example_rewards))]\n",
    "    print(f\"Cumulative reward: {total_reward}\")  # 1"
   ]
  }
 ],
 "metadata": {
  "kernelspec": {
   "display_name": "base",
   "language": "python",
   "name": "python3"
  },
  "language_info": {
   "codemirror_mode": {
    "name": "ipython",
    "version": 3
   },
   "file_extension": ".py",
   "mimetype": "text/x-python",
   "name": "python",
   "nbconvert_exporter": "python",
   "pygments_lexer": "ipython3",
   "version": "3.11.5"
  }
 },
 "nbformat": 4,
 "nbformat_minor": 5
}
